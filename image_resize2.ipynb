{
 "cells": [
  {
   "cell_type": "code",
   "execution_count": 10,
   "metadata": {
    "collapsed": true
   },
   "outputs": [],
   "source": [
    "from PIL import Image\n",
    "\n",
    "from resizeimage import resizeimage\n"
   ]
  },
  {
   "cell_type": "code",
   "execution_count": null,
   "metadata": {},
   "outputs": [],
   "source": []
  },
  {
   "cell_type": "code",
   "execution_count": 56,
   "metadata": {},
   "outputs": [
    {
     "name": "stdout",
     "output_type": "stream",
     "text": [
      "<_io.TextIOWrapper name='C:\\\\Users\\\\trini\\\\image_testing\\\\f' mode='r' encoding='Latin-1'>\n",
      "<_io.TextIOWrapper name='C:\\\\Users\\\\trini\\\\image_testing\\\\f' mode='r' encoding='Latin-1'>\n",
      "<_io.TextIOWrapper name='C:\\\\Users\\\\trini\\\\image_testing\\\\f' mode='r' encoding='Latin-1'>\n",
      "<_io.TextIOWrapper name='C:\\\\Users\\\\trini\\\\image_testing\\\\f' mode='r' encoding='Latin-1'>\n",
      "<_io.TextIOWrapper name='C:\\\\Users\\\\trini\\\\image_testing\\\\f' mode='r' encoding='Latin-1'>\n"
     ]
    }
   ],
   "source": [
    "import os\n",
    "rootdir = 'C:\\\\Users\\\\trini\\\\image_testing'\n",
    "\n",
    "for subdir, dirs, files in os.walk(rootdir):\n",
    "    for file in files:\n",
    "        \n",
    "        img = Image.open(subdir+'\\\\'+ file)\n",
    "        img = resizeimage.resize_thumbnail(img, [200, 200])\n",
    "        img.save(subdir+'\\\\'+ file,img.format)\n",
    "        img.close()\n",
    "        #print(f)"
   ]
  },
  {
   "cell_type": "code",
   "execution_count": null,
   "metadata": {},
   "outputs": [],
   "source": []
  },
  {
   "cell_type": "code",
   "execution_count": null,
   "metadata": {
    "collapsed": true
   },
   "outputs": [],
   "source": []
  },
  {
   "cell_type": "code",
   "execution_count": null,
   "metadata": {},
   "outputs": [],
   "source": []
  },
  {
   "cell_type": "code",
   "execution_count": null,
   "metadata": {
    "collapsed": true
   },
   "outputs": [],
   "source": []
  }
 ],
 "metadata": {
  "kernelspec": {
   "display_name": "Python 3",
   "language": "python",
   "name": "python3"
  },
  "language_info": {
   "codemirror_mode": {
    "name": "ipython",
    "version": 3
   },
   "file_extension": ".py",
   "mimetype": "text/x-python",
   "name": "python",
   "nbconvert_exporter": "python",
   "pygments_lexer": "ipython3",
   "version": "3.6.1"
  }
 },
 "nbformat": 4,
 "nbformat_minor": 2
}
